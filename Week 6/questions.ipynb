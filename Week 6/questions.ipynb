{
 "cells": [
  {
   "cell_type": "markdown",
   "metadata": {},
   "source": [
    "What Python module **contains** the function to see if a file exists? \n",
    "- The os module\n",
    "\n",
    "What is the function **within the module** that checks to see if the file exists?\n",
    "- os.path.isfile()\n",
    "\n",
    "What Python module **contains** the function to remove a file?\n",
    "- The os module\n",
    "\n",
    "What is the function **within the module** that removes the file?\n",
    "- os.remove()\n",
    "\n",
    "What standard Python function is used to take **input** from a user prompt?\n",
    "- ariable = input(\"input\")\n"
   ]
  }
 ],
 "metadata": {
  "kernelspec": {
   "display_name": "Python 3.8.10 64-bit (microsoft store)",
   "language": "python",
   "name": "python3"
  },
  "language_info": {
   "name": "python",
   "version": "3.8.10"
  },
  "orig_nbformat": 4,
  "vscode": {
   "interpreter": {
    "hash": "e90d09028034fad387c1b110046dbd98854f5ab2e280d32934c730d66bb51652"
   }
  }
 },
 "nbformat": 4,
 "nbformat_minor": 2
}
