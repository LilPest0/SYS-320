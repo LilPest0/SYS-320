{
 "cells": [
  {
   "cell_type": "code",
   "execution_count": null,
   "metadata": {},
   "outputs": [],
   "source": [
    "import os, sys, argparse, paramiko, yaml\n",
    "from getpass import getpass\n",
    "from os.path import exists"
   ]
  },
  {
   "cell_type": "code",
   "execution_count": null,
   "metadata": {},
   "outputs": [],
   "source": [
    "# Checks to see if the file specified for the results exists. Prompts the user that the file exists and if they want to delete it. If so, then the user provides the response,delete the file.\n",
    "\n",
    "if exists('results.txt') is True:\n",
    "    check = input('Results.txt already exists. Would you like to delete it? (y/n): ')\n",
    "    if check == 'y':\n",
    "        os.remove('results.txt')\n",
    "    elif check == 'n':\n",
    "        print('You chose to not delete the existing file, new resutls will append to the old results file.')\n",
    "    else:\n",
    "        print('Invalid Option')\n",
    "        sys.exit()"
   ]
  },
  {
   "cell_type": "code",
   "execution_count": null,
   "metadata": {},
   "outputs": [],
   "source": [
    "# Create the password prompt\n",
    "thePass = getpass(prompt=\"Please enter your SSH password:  \")\n",
    "\n",
    "# Host information\n",
    "host = \"127.0.0.1\"\n",
    "port = 22\n",
    "username = \"torfo\"\n",
    "password = thePass\n",
    "\n",
    "try:\n",
    "    ssh = paramiko.SSHClient()\n",
    "    ssh.set_missing_host_key_policy(paramiko.AutoAddPolicy())\n",
    "    ssh.connect(host, port, username, password)\n",
    "\n",
    "except paramiko.AuthenticationException:\n",
    "    print(\"Authentication failed\")"
   ]
  },
  {
   "cell_type": "code",
   "execution_count": null,
   "metadata": {},
   "outputs": [],
   "source": [
    "# Start SFTP Session\n",
    "sftp = ssh.open_sftp()\n",
    "\n",
    "# Upload the fs.py and searchTerms yaml file\n",
    "uploadFiles = ['C:\\Users\\torfo\\Documents\\SYS-320\\Week 6\\Homework\\fs.py', 'C:\\Users\\torfo\\Documents\\SYS-320\\Week 6\\Homework\\searchTerms.yaml']\n",
    "\n",
    "for eachFile in uploadFiles:\n",
    "    sftp.put(eachFile, 'C:\\Users\\torfo\\Documents\\SYS-320\\Week 6')\n",
    "\n",
    "# Run the script in /usr/bin\n",
    "command = ['python3 /Users/sarahfornaldes/Desktop/SYS-320-01/Week6/Task3_fs.py -d /usr/bin']\n",
    "\n",
    "for eachCMD in command:\n",
    "    # Get the output from the command\n",
    "    stdin, stdout, stderr  = ssh.exec_command(eachCMD)\n",
    "    print(stdout)\n",
    "    # Get results  from stdout\n",
    "    lines =  stdout.readlines()\n",
    "    #print(lines)\n",
    "\n",
    "    # Convert the list to a string\n",
    "    output =  ''.join(lines)\n",
    "    print(output)\n",
    "\n",
    "    # Header output\n",
    "    sepHeader = '' + '### BEGIN ' + eachCMD + ' ###\\n\\n'\n",
    "\n",
    "    # Footer output\n",
    "    sepFooter = '' + '### END ' + eachCMD + ' ###\\n\\n'\n",
    "\n",
    "    # Concatonate the header, output, and footer\n",
    "    cmd_output =  sepHeader + output +  sepFooter\n",
    "    #print(cmd_output)\n",
    "\n",
    "    # Save the cmd_output to a file\n",
    "    with open('results.txt', 'a') as f:\n",
    "        f.write(cmd_output)\n",
    "\n",
    "# End SFTP Session\n",
    "sftp.close()\n",
    "\n",
    "\n",
    "#python3 /Users/sarahfornaldes/Desktop/SYS-320-01/Week6/Homework/Task3_fs.py -d /usr/bin"
   ]
  }
 ],
 "metadata": {
  "kernelspec": {
   "display_name": "Python 3.8.10 64-bit (microsoft store)",
   "language": "python",
   "name": "python3"
  },
  "language_info": {
   "codemirror_mode": {
    "name": "ipython",
    "version": 3
   },
   "file_extension": ".py",
   "mimetype": "text/x-python",
   "name": "python",
   "nbconvert_exporter": "python",
   "pygments_lexer": "ipython3",
   "version": "3.8.10"
  },
  "orig_nbformat": 4,
  "vscode": {
   "interpreter": {
    "hash": "e90d09028034fad387c1b110046dbd98854f5ab2e280d32934c730d66bb51652"
   }
  }
 },
 "nbformat": 4,
 "nbformat_minor": 2
}
