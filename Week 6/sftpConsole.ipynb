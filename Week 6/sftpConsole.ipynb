{
 "cells": [
  {
   "cell_type": "code",
   "execution_count": null,
   "metadata": {},
   "outputs": [],
   "source": [
    "import paramiko\n",
    "from getpass import getpass\n",
    "\n",
    "# Create the password prompt\n",
    "thePass = getpass(prompt=\"SSH Password\")\n",
    "\n",
    "# Host info\n",
    "host = \"127.0.0.1\"\n",
    "port = 22\n",
    "username = \"admin\"\n",
    "password = thePass\n",
    "\n",
    "try:\n",
    "    ssh = paramiko.SSHClient()\n",
    "    ssh.set_missing_host_key_policy(paramiko.AutoAddPolicy())\n",
    "    ssh.connect(host, port, username, password)\n",
    "\n",
    "except paramiko.AuthenticationException:\n",
    "    print(\"Authentication failed\")\n",
    "\n",
    "\n",
    "\n"
   ]
  },
  {
   "cell_type": "code",
   "execution_count": null,
   "metadata": {},
   "outputs": [],
   "source": [
    "# Start sftp connection\n",
    "sftp = ssh.open_sftp()\n",
    "\n",
    "# List of files to download\n",
    "files = ['/etc/hosts','/etc/passwd','/var/log/auth.log']\n",
    "\n",
    "# Loop through files and download them\n",
    "for eachFile in files:\n",
    "\n",
    "    # Create a list from the filename\n",
    "    x = eachFile.split(\"/\")\n",
    "\n",
    "    # -1 is used to get the last element in a list\n",
    "    filename = x[-1]    \n",
    "\n",
    "    # Local path to store files\n",
    "    local_path = \"remote_files/\" + eachFile\n",
    "    sftp.get(eachFile, local_path)\n",
    "\n",
    "ssh.close"
   ]
  }
 ],
 "metadata": {
  "kernelspec": {
   "display_name": "Python 3.8.10 64-bit (microsoft store)",
   "language": "python",
   "name": "python3"
  },
  "language_info": {
   "name": "python",
   "version": "3.8.10"
  },
  "orig_nbformat": 4,
  "vscode": {
   "interpreter": {
    "hash": "e90d09028034fad387c1b110046dbd98854f5ab2e280d32934c730d66bb51652"
   }
  }
 },
 "nbformat": 4,
 "nbformat_minor": 2
}
