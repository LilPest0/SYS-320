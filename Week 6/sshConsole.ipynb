{
 "cells": [
  {
   "cell_type": "markdown",
   "metadata": {},
   "source": [
    "Turn on remote login before running"
   ]
  },
  {
   "cell_type": "code",
   "execution_count": null,
   "metadata": {},
   "outputs": [],
   "source": [
    "import paramiko\n",
    "from getpass import getpass\n",
    "\n",
    "# Create the password prompt\n",
    "thePass = getpass(prompt=\"SSH Password\")\n",
    "\n",
    "# Host info\n",
    "host = \"127.0.0.1\"\n",
    "port = 22\n",
    "username = \"admin\"\n",
    "password = thePass\n",
    "\n",
    "try:\n",
    "    ssh = paramiko.SSHClient()\n",
    "    ssh.set_missing_host_key_policy(paramiko.AutoAddPolicy())\n",
    "    ssh.connect(host, port, username, password)\n",
    "\n",
    "except paramiko.AuthenticationException:\n",
    "    print(\"Authentication failed\")\n",
    "\n",
    "\n",
    "\n"
   ]
  },
  {
   "cell_type": "code",
   "execution_count": null,
   "metadata": {},
   "outputs": [],
   "source": [
    "#Run a command\n",
    "#command = \"ps -ef\"\n",
    "\n",
    "# Run list of commands\n",
    "command = ['ps ef', 'netstat -an --inet', 'last -adx', 'cut -d: -f1 /etc/passwd']\n",
    "\n",
    "for eachCMD in command:\n",
    "\n",
    "    #Get output from command\n",
    "    stdin, stdout, stderrr = ssh.exec_command(command)\n",
    "\n",
    "#Get results from stdoutput\n",
    "    lines = stdout.readlines()\n",
    "#print(lines)\n",
    "\n",
    "# Convert list to string\n",
    "    output = ''.join(lines)\n",
    "\n",
    "# Header output\n",
    "    sepHeader = '' + '### BEGIN ' + command + ' ###\\n\\n'\n",
    "\n",
    "# Footer output\n",
    "    sepFooter = '' + '### END ' + command + ' ###\\n\\n'\n",
    "\n",
    "    cmd_output = sepHeader + output + sepFooter\n",
    "\n",
    "# Save cmd output to a file\n",
    "    with open('ssh_results.txt', 'w') as f:\n",
    "        f.write(cmd_output)\n",
    "#print(cmd_output)\n",
    "ssh.close"
   ]
  },
  {
   "cell_type": "code",
   "execution_count": null,
   "metadata": {},
   "outputs": [],
   "source": []
  }
 ],
 "metadata": {
  "kernelspec": {
   "display_name": "Python 3.8.10 64-bit (microsoft store)",
   "language": "python",
   "name": "python3"
  },
  "language_info": {
   "codemirror_mode": {
    "name": "ipython",
    "version": 3
   },
   "file_extension": ".py",
   "mimetype": "text/x-python",
   "name": "python",
   "nbconvert_exporter": "python",
   "pygments_lexer": "ipython3",
   "version": "3.8.10"
  },
  "orig_nbformat": 4,
  "vscode": {
   "interpreter": {
    "hash": "e90d09028034fad387c1b110046dbd98854f5ab2e280d32934c730d66bb51652"
   }
  }
 },
 "nbformat": 4,
 "nbformat_minor": 2
}
